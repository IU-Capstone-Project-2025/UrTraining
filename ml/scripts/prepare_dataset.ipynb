{
 "cells": [
  {
   "cell_type": "code",
   "execution_count": 28,
   "metadata": {},
   "outputs": [],
   "source": [
    "import os\n",
    "import json\n",
    "import typing as tp\n",
    "import warnings\n",
    "import random\n",
    "\n",
    "import pandas as pd\n",
    "import numpy as np\n",
    "from tqdm import tqdm\n",
    "\n",
    "warnings.filterwarnings(\"ignore\")\n",
    "\n",
    "client_profiles: pd.DataFrame = pd.read_csv(\"data/client_profiles.csv\")\n",
    "course_descriptions: tp.List[tp.Dict[str, tp.Any]] = json.load(\n",
    "    open(\"data/200_sport_programs.json\")\n",
    ")"
   ]
  },
  {
   "cell_type": "code",
   "execution_count": 29,
   "metadata": {},
   "outputs": [],
   "source": [
    "def prepare_documents(raw_docs: tp.List[tp.Dict[str, tp.Any]]) -> tp.List[str]:\n",
    "    docs: tp.List[str] = []\n",
    "    for doc in raw_docs:\n",
    "        formatted_doc = \"\\n\".join([f\"{k}: {str(v)}\" for k, v in doc.items()])\n",
    "        docs.append(formatted_doc)\n",
    "    return docs"
   ]
  },
  {
   "cell_type": "code",
   "execution_count": 30,
   "metadata": {},
   "outputs": [],
   "source": [
    "def safe_str(val: tp.Any) -> str:\n",
    "    if pd.isna(val):\n",
    "        return \"N/A\"\n",
    "    if isinstance(val, list):\n",
    "        return '\\n'.join(map(str, val))\n",
    "    return str(val)\n",
    "\n",
    "def stringify_profile(row):\n",
    "    return (\n",
    "        f\"Name: {safe_str(row['personal_data.full_name'])}.\\n\"\n",
    "        f\"Gender: {safe_str(row['basic_information.gender'])}, Age: {safe_str(row['basic_information.age'])}\\n\"\n",
    "        f\"Height: {safe_str(row['basic_information.height_cm'])} cm, Weight: {safe_str(row['basic_information.weight_kg'])} kg.\\n\"\n",
    "        f\"Training goals: {safe_str(row['training_goals'])}.\\n\"\n",
    "        f\"Experience: {safe_str(row['training_experience.level'])}\\n\"\n",
    "        f\"({safe_str(row['training_experience.frequency_last_3_months'])}).\\n\"\n",
    "        f\"Prefers training at: {safe_str(row['preferences.training_location'])}\\n\"\n",
    "        f\"({safe_str(row['preferences.location_details'])}),\\n\"\n",
    "        f\"Session duration: {safe_str(row['preferences.session_duration'])}.\\n\"\n",
    "        f\"Joint/back problems: {safe_str(row['health.joint_back_problems'])},\\n\"\n",
    "        f\"Chronic conditions: {safe_str(row['health.chronic_conditions'])},\\n\"\n",
    "        f\"Health details: {safe_str(row['health.health_details'])}.\\n\"\n",
    "        f\"Strength training: {safe_str(row['training_types.strength_training'])}\\n\"\n",
    "        f\"Cardio: {safe_str(row['training_types.cardio'])}\\n\"\n",
    "        f\"HIIT: {safe_str(row['training_types.hiit'])}\\n\"\n",
    "        f\"Yoga/Pilates: {safe_str(row['training_types.yoga_pilates'])}\\n\"\n",
    "        f\"Functional training: {safe_str(row['training_types.functional_training'])}\\n\"\n",
    "        f\"Stretching: {safe_str(row['training_types.stretching'])}\"\n",
    "    )\n",
    "\n",
    "client_profiles['stringified'] = client_profiles.apply(stringify_profile, axis=1)"
   ]
  },
  {
   "cell_type": "markdown",
   "metadata": {},
   "source": [
    "---\n",
    "\n",
    "#### Create metadata for each user profile to ensure user vector diversity"
   ]
  },
  {
   "cell_type": "code",
   "execution_count": 31,
   "metadata": {},
   "outputs": [
    {
     "name": "stderr",
     "output_type": "stream",
     "text": [
      "100%|██████████| 39/39 [00:00<00:00, 7144.39it/s]\n"
     ]
    }
   ],
   "source": [
    "from prompts import GENERATE_USER_METADATA_PROMPT as prompt\n",
    "\n",
    "available_programs: tp.List[tp.Dict[str, str]] = [\n",
    "    {\"name\": \"Beginner Home Strength\"},\n",
    "    {\"name\": \"Cardio Burnout\"},\n",
    "    {\"name\": \"Yoga for Flexibility\"},\n",
    "    {\"name\": \"Senior Functional Fitness\"},\n",
    "    {\"name\": \"Boxing Bootcamp\"},\n",
    "    {\"name\": \"HIIT Express\"},\n",
    "    {\"name\": \"Pilates Core Builder\"},\n",
    "    {\"name\": \"CrossFit Challenge\"},\n",
    "    {\"name\": \"Bodybuilding Basics\"},\n",
    "    {\"name\": \"Stretch & Recover\"},\n",
    "    {\"name\": \"Swimming Endurance\"},\n",
    "    {\"name\": \"Cycling Power\"},\n",
    "    {\"name\": \"Dance Cardio\"},\n",
    "    {\"name\": \"Rehabilitation Mobility\"},\n",
    "    {\"name\": \"Morning Energy Yoga\"},\n",
    "]\n",
    "\n",
    "seed_phrases: tp.List[str] = [\n",
    "    \"Motivated beginner eager to get fit\",\n",
    "    \"Experienced athlete recovering from injury\",\n",
    "    \"Busy professional with limited time for workouts\",\n",
    "    \"Senior looking to improve mobility and balance\",\n",
    "    \"Young adult training for a marathon\",\n",
    "    \"New mother seeking postnatal fitness\",\n",
    "    \"Student interested in stress relief and flexibility\",\n",
    "    \"Overweight individual aiming for weight loss\",\n",
    "    \"Fitness enthusiast exploring new training styles\",\n",
    "    \"Person with joint issues needing low-impact routines\",\n",
    "    \"Gym regular wanting to build muscle mass\",\n",
    "    \"Outdoor lover preferring nature workouts\",\n",
    "    \"Cardio fan aiming to boost endurance\",\n",
    "    \"Yoga devotee seeking advanced poses\",\n",
    "    \"Beginner intimidated by gym equipment\",\n",
    "    \"Parent looking for family-friendly workouts\",\n",
    "    \"Traveler needing portable, equipment-free routines\",\n",
    "    \"Retiree focused on active longevity\",\n",
    "    \"Person with diabetes managing health through exercise\",\n",
    "    \"Night owl preferring late evening sessions\",\n",
    "]\n",
    "metadata_prompts: tp.List[str] = []\n",
    "for i in tqdm(range(len(client_profiles))):\n",
    "    user_seed_phrases = random.sample(seed_phrases, 3)\n",
    "    for seed_phrase in user_seed_phrases:\n",
    "        metadata_prompts.append(\n",
    "            prompt.format(\n",
    "                user_profile=client_profiles.iloc[i][\"stringified\"],\n",
    "                seed_phrase=seed_phrase,\n",
    "                available_programs=\"\\n\".join([p[\"name\"] for p in available_programs]),\n",
    "            )\n",
    "        )"
   ]
  },
  {
   "cell_type": "code",
   "execution_count": 32,
   "metadata": {},
   "outputs": [
    {
     "name": "stderr",
     "output_type": "stream",
     "text": [
      "100%|██████████| 117/117 [14:48<00:00,  7.60s/it]\n"
     ]
    }
   ],
   "source": [
    "from client_form_synt_data import get_response\n",
    "\n",
    "metadata: tp.List[str] = []\n",
    "\n",
    "for i in tqdm(range(len(metadata_prompts))):\n",
    "    response: str = str(\n",
    "        get_response(\n",
    "            model_name=\"gemma\",\n",
    "            user_prompt=metadata_prompts[i],\n",
    "            system_prompt=\"You are a helpful assistant.\",\n",
    "        )\n",
    "        .choices[0]\n",
    "        .message.content\n",
    "    )\n",
    "    metadata.append(response)"
   ]
  },
  {
   "cell_type": "code",
   "execution_count": 33,
   "metadata": {},
   "outputs": [],
   "source": [
    "with open(\"data/user_metadata.json\", \"w\") as f:\n",
    "    f.write(json.dumps(metadata, indent=4, ensure_ascii=False))"
   ]
  },
  {
   "cell_type": "code",
   "execution_count": 34,
   "metadata": {},
   "outputs": [],
   "source": [
    "#### Map metadata to client profiles\n",
    "metadata_reshaped: tp.List[tp.List[str]] = []\n",
    "for i in range(0, len(metadata), 3):\n",
    "    metadata_reshaped.append(metadata[i : i + 3])\n",
    "\n",
    "assert len(metadata_reshaped) == len(\n",
    "    client_profiles\n",
    "), f\"Metadata groups: {len(metadata_reshaped)}, Client profiles: {len(client_profiles)}\""
   ]
  },
  {
   "cell_type": "code",
   "execution_count": 36,
   "metadata": {},
   "outputs": [],
   "source": [
    "for i in range(len(client_profiles)):\n",
    "    client_profiles.at[i, \"metadata\"] = metadata_reshaped[i]"
   ]
  },
  {
   "cell_type": "code",
   "execution_count": 37,
   "metadata": {},
   "outputs": [],
   "source": [
    "users_stringified: tp.List[str] = []\n",
    "\n",
    "def preprocess_metadata(meta: str) -> str:\n",
    "    return meta.replace(\"```json\", \"\").replace(\"```\", \"\").strip()\n",
    "\n",
    "for idx, user in client_profiles.iterrows():\n",
    "    user_profile: str = user[\"stringified\"] # type: ignore\n",
    "    user_metas: tp.List[str] = user[\"metadata\"] # type: ignore\n",
    "    for meta in user_metas:\n",
    "        users_stringified.append(f\"{preprocess_metadata(meta)}\\n{user_profile}\")"
   ]
  },
  {
   "cell_type": "code",
   "execution_count": 38,
   "metadata": {},
   "outputs": [],
   "source": [
    "with open(\"data/user_with_metadata.json\", \"w\") as f:\n",
    "    json.dump(users_stringified, f, indent=4, ensure_ascii=False)"
   ]
  },
  {
   "cell_type": "code",
   "execution_count": 44,
   "metadata": {},
   "outputs": [
    {
     "data": {
      "image/png": "[encoded data removed]",
      "text/plain": [
       "<Figure size 640x480 with 1 Axes>"
      ]
     },
     "metadata": {},
     "output_type": "display_data"
    }
   ],
   "source": [
    "import matplotlib.pyplot as plt\n",
    "\n",
    "plt.hist([len(user) for user in users_stringified])\n",
    "plt.show()"
   ]
  },
  {
   "cell_type": "markdown",
   "metadata": {},
   "source": [
    "---\n",
    "\n",
    "#### Prepare prompts for Deepseek"
   ]
  },
  {
   "cell_type": "code",
   "execution_count": 59,
   "metadata": {},
   "outputs": [],
   "source": [
    "REARRANGE_PROGRAMS_PROMPT = \"\"\"You are an expert in personalized sport program recommendations.\n",
    "\n",
    "Given:\n",
    "- A user profile describing the client's characteristics, goals, preferences, and health information.\n",
    "- A list of sport programs, each with a unique ID and description.\n",
    "\n",
    "**Task:**  \n",
    "Select the single most relevant sport program for this user based on their profile.  \n",
    "Return only the program ID of the most relevant course as plain text, with no explanation or formatting.\n",
    "\n",
    "**Example output:**\n",
    "12\n",
    "\n",
    "**User Profile:**\n",
    "{user_profile}\n",
    "\n",
    "**Sport Programs:**\n",
    "{programs}\n",
    "\"\"\""
   ]
  },
  {
   "cell_type": "code",
   "execution_count": 62,
   "metadata": {},
   "outputs": [
    {
     "name": "stderr",
     "output_type": "stream",
     "text": [
      "100%|██████████| 117/117 [03:49<00:00,  1.96s/it]\n"
     ]
    }
   ],
   "source": [
    "from tqdm import tqdm\n",
    "\n",
    "training_data = []\n",
    "for user in tqdm(users_stringified):\n",
    "    formatted_prompt = REARRANGE_PROGRAMS_PROMPT.format(\n",
    "        user_profile=user,\n",
    "        programs=\"\\n\".join(\n",
    "            [\n",
    "                f\"Program#{i}: {str(p)[:100]}...\"\n",
    "                for i, p in enumerate(available_programs)\n",
    "            ]\n",
    "        ),\n",
    "    )\n",
    "    response = get_response(\n",
    "        model_name=\"gemma\",\n",
    "        user_prompt=formatted_prompt,\n",
    "        system_prompt=\"You are a helpful assistant.\",\n",
    "    )\n",
    "    training_data.append(response)"
   ]
  },
  {
   "cell_type": "code",
   "execution_count": 64,
   "metadata": {},
   "outputs": [],
   "source": [
    "df = []\n",
    "for idx, item in enumerate(training_data):\n",
    "    course_id: int = int(item.choices[0].message.content)\n",
    "    user_profile_w_meta: str = users_stringified[idx]\n",
    "    course_description: tp.Dict[str, tp.Any] = course_descriptions[course_id]\n",
    "    df.append((idx, course_id, user_profile_w_meta, course_description))"
   ]
  },
  {
   "cell_type": "code",
   "execution_count": 65,
   "metadata": {},
   "outputs": [],
   "source": [
    "df = pd.DataFrame(\n",
    "    df, columns=[\"id\", \"course_id\", \"user_profile_w_meta\", \"course_description\"]\n",
    ")"
   ]
  },
  {
   "cell_type": "code",
   "execution_count": 66,
   "metadata": {},
   "outputs": [],
   "source": [
    "df.to_csv(\"data/dataset.csv\", index=False)"
   ]
  }
 ],
 "metadata": {
  "kernelspec": {
   "display_name": "ml",
   "language": "python",
   "name": "python3"
  },
  "language_info": {
   "codemirror_mode": {
    "name": "ipython",
    "version": 3
   },
   "file_extension": ".py",
   "mimetype": "text/x-python",
   "name": "python",
   "nbconvert_exporter": "python",
   "pygments_lexer": "ipython3",
   "version": "3.12.11"
  }
 },
 "nbformat": 4,
 "nbformat_minor": 2
}
