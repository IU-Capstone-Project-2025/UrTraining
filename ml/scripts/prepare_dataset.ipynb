{
 "cells": [
  {
   "cell_type": "code",
   "execution_count": 2,
   "metadata": {},
   "outputs": [],
   "source": [
    "import os\n",
    "import json\n",
    "import typing as tp\n",
    "import warnings\n",
    "\n",
    "import pandas as pd\n",
    "import numpy as np\n",
    "import sentence_transformers as sts\n",
    "\n",
    "warnings.filterwarnings(\"ignore\")\n",
    "\n",
    "client_profiles: pd.DataFrame = pd.read_csv(\"data/client_profiles.csv\")\n",
    "course_descriptions: tp.List[tp.Dict[str, tp.Any]] = json.load(\n",
    "    open(\"data/200_sport_programs.json\")\n",
    ")"
   ]
  },
  {
   "cell_type": "code",
   "execution_count": 4,
   "metadata": {},
   "outputs": [],
   "source": [
    "def prepare_documents(raw_docs: tp.List[tp.Dict[str, tp.Any]]) -> tp.List[str]:\n",
    "    docs: tp.List[str] = []\n",
    "    for doc in raw_docs:\n",
    "        formatted_doc = \"\\n\".join([f\"{k}: {str(v)}\" for k, v in doc.items()])\n",
    "        docs.append(formatted_doc)\n",
    "    return docs"
   ]
  },
  {
   "cell_type": "code",
   "execution_count": 14,
   "metadata": {},
   "outputs": [],
   "source": [
    "def safe_str(val: tp.Any) -> str:\n",
    "    if pd.isna(val):\n",
    "        return \"N/A\"\n",
    "    if isinstance(val, list):\n",
    "        return '\\n'.join(map(str, val))\n",
    "    return str(val)\n",
    "\n",
    "def stringify_profile(row):\n",
    "    return (\n",
    "        f\"Name: {safe_str(row['personal_data.full_name'])}.\\n\"\n",
    "        f\"Gender: {safe_str(row['basic_information.gender'])}, Age: {safe_str(row['basic_information.age'])}\\n\"\n",
    "        f\"Height: {safe_str(row['basic_information.height_cm'])} cm, Weight: {safe_str(row['basic_information.weight_kg'])} kg.\\n\"\n",
    "        f\"Training goals: {safe_str(row['training_goals'])}.\\n\"\n",
    "        f\"Experience: {safe_str(row['training_experience.level'])}\\n\"\n",
    "        f\"({safe_str(row['training_experience.frequency_last_3_months'])}).\\n\"\n",
    "        f\"Prefers training at: {safe_str(row['preferences.training_location'])}\\n\"\n",
    "        f\"({safe_str(row['preferences.location_details'])}),\\n\"\n",
    "        f\"Session duration: {safe_str(row['preferences.session_duration'])}.\\n\"\n",
    "        f\"Joint/back problems: {safe_str(row['health.joint_back_problems'])},\\n\"\n",
    "        f\"Chronic conditions: {safe_str(row['health.chronic_conditions'])},\\n\"\n",
    "        f\"Health details: {safe_str(row['health.health_details'])}.\\n\"\n",
    "        f\"Strength training: {safe_str(row['training_types.strength_training'])}\\n\"\n",
    "        f\"Cardio: {safe_str(row['training_types.cardio'])}\\n\"\n",
    "        f\"HIIT: {safe_str(row['training_types.hiit'])}\\n\"\n",
    "        f\"Yoga/Pilates: {safe_str(row['training_types.yoga_pilates'])}\\n\"\n",
    "        f\"Functional training: {safe_str(row['training_types.functional_training'])}\\n\"\n",
    "        f\"Stretching: {safe_str(row['training_types.stretching'])}\"\n",
    "    )\n",
    "\n",
    "client_profiles['stringified'] = client_profiles.apply(stringify_profile, axis=1)"
   ]
  }
 ],
 "metadata": {
  "kernelspec": {
   "display_name": "ml",
   "language": "python",
   "name": "python3"
  },
  "language_info": {
   "codemirror_mode": {
    "name": "ipython",
    "version": 3
   },
   "file_extension": ".py",
   "mimetype": "text/x-python",
   "name": "python",
   "nbconvert_exporter": "python",
   "pygments_lexer": "ipython3",
   "version": "3.12.11"
  }
 },
 "nbformat": 4,
 "nbformat_minor": 2
}
