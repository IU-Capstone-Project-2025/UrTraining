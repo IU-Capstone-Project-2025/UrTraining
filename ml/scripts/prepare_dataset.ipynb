{
 "cells": [
  {
   "cell_type": "code",
   "execution_count": 1,
   "metadata": {},
   "outputs": [],
   "source": [
    "import os\n",
    "import json\n",
    "import typing as tp\n",
    "import warnings\n",
    "import random\n",
    "\n",
    "import pandas as pd\n",
    "import numpy as np\n",
    "\n",
    "warnings.filterwarnings(\"ignore\")\n",
    "\n",
    "client_profiles: pd.DataFrame = pd.read_csv(\"data/client_profiles.csv\")\n",
    "course_descriptions: tp.List[tp.Dict[str, tp.Any]] = json.load(\n",
    "    open(\"data/200_sport_programs.json\")\n",
    ")"
   ]
  },
  {
   "cell_type": "code",
   "execution_count": 2,
   "metadata": {},
   "outputs": [],
   "source": [
    "def prepare_documents(raw_docs: tp.List[tp.Dict[str, tp.Any]]) -> tp.List[str]:\n",
    "    docs: tp.List[str] = []\n",
    "    for doc in raw_docs:\n",
    "        formatted_doc = \"\\n\".join([f\"{k}: {str(v)}\" for k, v in doc.items()])\n",
    "        docs.append(formatted_doc)\n",
    "    return docs"
   ]
  },
  {
   "cell_type": "code",
   "execution_count": 3,
   "metadata": {},
   "outputs": [],
   "source": [
    "def safe_str(val: tp.Any) -> str:\n",
    "    if pd.isna(val):\n",
    "        return \"N/A\"\n",
    "    if isinstance(val, list):\n",
    "        return '\\n'.join(map(str, val))\n",
    "    return str(val)\n",
    "\n",
    "def stringify_profile(row):\n",
    "    return (\n",
    "        f\"Name: {safe_str(row['personal_data.full_name'])}.\\n\"\n",
    "        f\"Gender: {safe_str(row['basic_information.gender'])}, Age: {safe_str(row['basic_information.age'])}\\n\"\n",
    "        f\"Height: {safe_str(row['basic_information.height_cm'])} cm, Weight: {safe_str(row['basic_information.weight_kg'])} kg.\\n\"\n",
    "        f\"Training goals: {safe_str(row['training_goals'])}.\\n\"\n",
    "        f\"Experience: {safe_str(row['training_experience.level'])}\\n\"\n",
    "        f\"({safe_str(row['training_experience.frequency_last_3_months'])}).\\n\"\n",
    "        f\"Prefers training at: {safe_str(row['preferences.training_location'])}\\n\"\n",
    "        f\"({safe_str(row['preferences.location_details'])}),\\n\"\n",
    "        f\"Session duration: {safe_str(row['preferences.session_duration'])}.\\n\"\n",
    "        f\"Joint/back problems: {safe_str(row['health.joint_back_problems'])},\\n\"\n",
    "        f\"Chronic conditions: {safe_str(row['health.chronic_conditions'])},\\n\"\n",
    "        f\"Health details: {safe_str(row['health.health_details'])}.\\n\"\n",
    "        f\"Strength training: {safe_str(row['training_types.strength_training'])}\\n\"\n",
    "        f\"Cardio: {safe_str(row['training_types.cardio'])}\\n\"\n",
    "        f\"HIIT: {safe_str(row['training_types.hiit'])}\\n\"\n",
    "        f\"Yoga/Pilates: {safe_str(row['training_types.yoga_pilates'])}\\n\"\n",
    "        f\"Functional training: {safe_str(row['training_types.functional_training'])}\\n\"\n",
    "        f\"Stretching: {safe_str(row['training_types.stretching'])}\"\n",
    "    )\n",
    "\n",
    "client_profiles['stringified'] = client_profiles.apply(stringify_profile, axis=1)"
   ]
  },
  {
   "cell_type": "markdown",
   "metadata": {},
   "source": [
    "---\n",
    "\n",
    "#### Create metadata for each user profile to ensure user vector diversity"
   ]
  },
  {
   "cell_type": "code",
   "execution_count": 12,
   "metadata": {},
   "outputs": [],
   "source": [
    "from prompts import GENERATE_USER_METADATA_PROMPT as prompt\n",
    "\n",
    "available_programs: tp.List[tp.Dict[str, str]] = [\n",
    "    {\"program_id\": \"P001\", \"name\": \"Beginner Home Strength\"},\n",
    "    {\"program_id\": \"P002\", \"name\": \"Cardio Burnout\"},\n",
    "    {\"program_id\": \"P003\", \"name\": \"Yoga for Flexibility\"},\n",
    "    {\"program_id\": \"P004\", \"name\": \"Senior Functional Fitness\"},\n",
    "    {\"program_id\": \"P005\", \"name\": \"Boxing Bootcamp\"},\n",
    "    {\"program_id\": \"P006\", \"name\": \"HIIT Express\"},\n",
    "    {\"program_id\": \"P007\", \"name\": \"Pilates Core Builder\"},\n",
    "    {\"program_id\": \"P008\", \"name\": \"CrossFit Challenge\"},\n",
    "    {\"program_id\": \"P009\", \"name\": \"Bodybuilding Basics\"},\n",
    "    {\"program_id\": \"P010\", \"name\": \"Stretch & Recover\"},\n",
    "    {\"program_id\": \"P011\", \"name\": \"Swimming Endurance\"},\n",
    "    {\"program_id\": \"P012\", \"name\": \"Cycling Power\"},\n",
    "    {\"program_id\": \"P013\", \"name\": \"Dance Cardio\"},\n",
    "    {\"program_id\": \"P014\", \"name\": \"Rehabilitation Mobility\"},\n",
    "    {\"program_id\": \"P015\", \"name\": \"Morning Energy Yoga\"},\n",
    "]\n",
    "\n",
    "seed_phrases: tp.List[str] = [\n",
    "    \"Motivated beginner eager to get fit\",\n",
    "    \"Experienced athlete recovering from injury\",\n",
    "    \"Busy professional with limited time for workouts\",\n",
    "    \"Senior looking to improve mobility and balance\",\n",
    "    \"Young adult training for a marathon\",\n",
    "    \"New mother seeking postnatal fitness\",\n",
    "    \"Student interested in stress relief and flexibility\",\n",
    "    \"Overweight individual aiming for weight loss\",\n",
    "    \"Fitness enthusiast exploring new training styles\",\n",
    "    \"Person with joint issues needing low-impact routines\",\n",
    "    \"Gym regular wanting to build muscle mass\",\n",
    "    \"Outdoor lover preferring nature workouts\",\n",
    "    \"Cardio fan aiming to boost endurance\",\n",
    "    \"Yoga devotee seeking advanced poses\",\n",
    "    \"Beginner intimidated by gym equipment\",\n",
    "    \"Parent looking for family-friendly workouts\",\n",
    "    \"Traveler needing portable, equipment-free routines\",\n",
    "    \"Retiree focused on active longevity\",\n",
    "    \"Person with diabetes managing health through exercise\",\n",
    "    \"Night owl preferring late evening sessions\",\n",
    "]\n",
    "metadata_prompts: tp.List[str] = []\n",
    "for i in range(len(client_profiles)):\n",
    "    user_seed_phrases = random.sample(seed_phrases, 3)\n",
    "    for seed_phrase in user_seed_phrases:\n",
    "        metadata_prompts.append(\n",
    "            prompt.format(\n",
    "                user_profile=client_profiles.iloc[i][\"stringified\"],\n",
    "                seed_phrase=seed_phrase,\n",
    "                available_programs=\"\\n\".join(\n",
    "                    [f\"{p['program_id']}: {p['name']}\" for p in available_programs]\n",
    "                ),\n",
    "            )\n",
    "        )"
   ]
  },
  {
   "cell_type": "code",
   "execution_count": null,
   "metadata": {},
   "outputs": [
    {
     "data": {
      "text/plain": [
       "ChatCompletion(id='chatcmpl-e7fd0ea0ed274113a9a586290b597553', choices=[Choice(finish_reason='stop', index=0, logprobs=None, message=ChatCompletionMessage(content=\"Hello! As an AI, I don't *experience* feelings, but I'm functioning optimally and ready to help! So you could say I'm doing well. 😊 \\n\\nHow are *you* doing today? Is there anything I can assist you with?\\n\\n\\n\\n\", refusal=None, role='assistant', annotations=None, audio=None, function_call=None, tool_calls=[], reasoning_content=None), stop_reason=106)], created=1750859071, model='google/gemma-3-27b-it', object='chat.completion', service_tier=None, system_fingerprint=None, usage=CompletionUsage(completion_tokens=58, prompt_tokens=22, total_tokens=80, completion_tokens_details=None, prompt_tokens_details=None), prompt_logprobs=None)"
      ]
     },
     "execution_count": 11,
     "metadata": {},
     "output_type": "execute_result"
    }
   ],
   "source": [
    "from client_form_synt_data import get_response\n",
    "\n",
    "metadata: tp.List[tp.List[str]] = []\n",
    "\n",
    "for i in range(len(metadata_prompts)):\n",
    "    response: str = get_response(\n",
    "            model_name=\"gemma\",\n",
    "            user_prompt=metadata_prompts[i],\n",
    "            system_prompt=\"You are a helpful assistant.\",\n",
    "        ).choices[0].message.content\n",
    "    metadata.append(\n",
    "\n",
    "    )\n",
    "\n",
    "\n",
    "\n",
    "\n",
    "get_response(\n",
    "    model_name=\"gemma\",\n",
    "    user_prompt=\"Hello, how are you?\",\n",
    "    system_prompt=\"You are a helpful assistant.\",\n",
    ")"
   ]
  },
  {
   "cell_type": "code",
   "execution_count": null,
   "metadata": {},
   "outputs": [],
   "source": []
  }
 ],
 "metadata": {
  "kernelspec": {
   "display_name": "ml",
   "language": "python",
   "name": "python3"
  },
  "language_info": {
   "codemirror_mode": {
    "name": "ipython",
    "version": 3
   },
   "file_extension": ".py",
   "mimetype": "text/x-python",
   "name": "python",
   "nbconvert_exporter": "python",
   "pygments_lexer": "ipython3",
   "version": "3.12.11"
  }
 },
 "nbformat": 4,
 "nbformat_minor": 2
}
