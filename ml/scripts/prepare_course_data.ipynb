{
 "cells": [
  {
   "cell_type": "code",
   "execution_count": 94,
   "metadata": {},
   "outputs": [],
   "source": [
    "import json\n",
    "import requests\n",
    "\n",
    "create_index_url: str = \"http://0.0.0.0:8000/create_index\"\n",
    "add_documents_url: str = \"http://0.0.0.0:8000/add_documents\"\n",
    "get_document_url: str = \"http://0.0.0.0:8000/get_document\"\n",
    "\n",
    "\n",
    "courses_path: str = (\n",
    "    \"/Users/egor/Documents/code/UrTraining/ml/scripts/selected_courses_with_ids.json\"\n",
    ")\n",
    "\n",
    "courses = json.load(open(courses_path))\n",
    "courses_to_upload = []\n",
    "for course in courses:\n",
    "    # Stringify course\n",
    "    course_parts = []\n",
    "    for key, value in course.items():\n",
    "        if isinstance(value, list):\n",
    "            value_str = \", \".join(str(v) for v in value)\n",
    "        else:\n",
    "            value_str = str(value)\n",
    "        course_parts.append(f\"{key}: {value_str}\")\n",
    "    course_str = \"\\n\\n\".join(course_parts)\n",
    "    courses_to_upload.append({\n",
    "        \"id\": course.get(\"id\"),\n",
    "        \"content\": course_str\n",
    "    })"
   ]
  },
  {
   "cell_type": "markdown",
   "metadata": {},
   "source": [
    "### Create Index"
   ]
  },
  {
   "cell_type": "code",
   "execution_count": 95,
   "metadata": {},
   "outputs": [
    {
     "data": {
      "text/plain": [
       "{'success': True,\n",
       " 'message': \"Index 'index_v3' created successfully\",\n",
       " 'index_name': 'index_v3'}"
      ]
     },
     "execution_count": 95,
     "metadata": {},
     "output_type": "execute_result"
    }
   ],
   "source": [
    "res = requests.post(create_index_url, json={\n",
    "    \"name\": \"index_v3\",\n",
    "    \"dimension\": 1024,\n",
    "    \"distance_metric\": \"L2\",\n",
    "    \"index_type\": \"Flat\",\n",
    "})\n",
    "\n",
    "res.json()"
   ]
  },
  {
   "cell_type": "code",
   "execution_count": null,
   "metadata": {},
   "outputs": [],
   "source": [
    "from itertools import batched\n",
    "\n",
    "# Split documents into 4 batches\n",
    "batch_size = 2\n",
    "\n",
    "url: str = \"http://0.0.0.0:8000/add_documents\"\n",
    "\n",
    "results = []\n",
    "for i, batch_documents in enumerate(batched(courses_to_upload, batch_size)):\n",
    "    res = requests.post(\n",
    "        url,\n",
    "        json={\n",
    "            \"index_name\": \"index_v3\",\n",
    "            \"documents\": list(batch_documents),\n",
    "        },\n",
    "    )\n",
    "    results.append(res.json())\n",
    "    import time\n",
    "    time.sleep(2)\n",
    "    print(f\"Batch {i+1} response: {res.status_code}\")"
   ]
  }
 ],
 "metadata": {
  "kernelspec": {
   "display_name": "ml",
   "language": "python",
   "name": "python3"
  },
  "language_info": {
   "codemirror_mode": {
    "name": "ipython",
    "version": 3
   },
   "file_extension": ".py",
   "mimetype": "text/x-python",
   "name": "python",
   "nbconvert_exporter": "python",
   "pygments_lexer": "ipython3",
   "version": "3.12.3"
  }
 },
 "nbformat": 4,
 "nbformat_minor": 2
}
