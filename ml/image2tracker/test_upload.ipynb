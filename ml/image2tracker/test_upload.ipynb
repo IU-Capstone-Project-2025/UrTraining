{
 "cells": [
  {
   "cell_type": "code",
   "execution_count": 1,
   "metadata": {},
   "outputs": [],
   "source": [
    "import requests\n",
    "import base64"
   ]
  },
  {
   "cell_type": "code",
   "execution_count": 2,
   "metadata": {},
   "outputs": [],
   "source": [
    "url: str = \"http://31.129.96.182:1338/image2tracker\"\n",
    "image_path: str = \"imgs/telegram-cloud-photo-size-2-5364154719955709879-y.jpg\"\n",
    "image_bytes: bytes = open(image_path, \"rb\").read()\n",
    "image_base64: str = base64.b64encode(image_bytes).decode('utf-8')"
   ]
  },
  {
   "cell_type": "code",
   "execution_count": 3,
   "metadata": {},
   "outputs": [],
   "source": [
    "result = requests.post(\n",
    "    url,\n",
    "    json={\n",
    "        \"image\": image_base64\n",
    "    },\n",
    ")"
   ]
  },
  {
   "cell_type": "code",
   "execution_count": 4,
   "metadata": {},
   "outputs": [
    {
     "data": {
      "text/plain": [
       "'{\"response\":\"Error processing request: Connection error.\"}'"
      ]
     },
     "execution_count": 4,
     "metadata": {},
     "output_type": "execute_result"
    }
   ],
   "source": [
    "result.text"
   ]
  },
  {
   "cell_type": "code",
   "execution_count": 16,
   "metadata": {},
   "outputs": [
    {
     "name": "stdout",
     "output_type": "stream",
     "text": [
      "```json\n",
      "{\n",
      "    \"course_title\": \"Swimming Training Program - Freestyle Focus\",\n",
      "    \"program_description\": \"This program is designed to improve freestyle swimming technique, endurance, and speed. It's geared towards intermediate to advanced swimmers comfortable with the freestyle stroke. It incorporates drills with and without a kickboard, as well as short sprints and a cool-down. The program is structured around warm-up, main set, and cool-down phases, with a focus on consistent pacing and proper form. Note: 'колобашкой' refers to a kickboard.\",\n",
      "    \"training_plan\": [\n",
      "        {\n",
      "            \"title\": \"Week 1 - Day 1 (60-75 min)\",\n",
      "            \"exercises\": [\n",
      "                {\n",
      "                    \"exercise\": \"Warm-up: 300m Freestyle with kickboard (alternating between front crawl on stomach and backstroke with arms extended)\",\n",
      "                    \"repeats\": \"-\",\n",
      "                    \"sets\": \"1\",\n",
      "                    \"duration\": \"300m\",\n",
      "                    \"rest\": \"Minimal\",\n",
      "                    \"description\": \"Focus on maintaining a streamlined body position and a consistent kick. Alternate strokes every 50m.\"\n",
      "                },\n",
      "                {\n",
      "                    \"exercise\": \"Main Set: 2 sets of (4x50m Freestyle with kickboard, followed by a relay-style exercise: 2x50m with kickboard, 2x50m without)\",\n",
      "                    \"repeats\": \"4\",\n",
      "                    \"sets\": \"2\",\n",
      "                    \"duration\": \"50m\",\n",
      "                    \"rest\": \"30 sec between each 50m, 1 min between sets\",\n",
      "                    \"description\": \"Maintain a fast pace during the 50m sprints. Relay exercise should be continuous with minimal rest between 50m segments.\"\n",
      "                },\n",
      "                {\n",
      "                    \"exercise\": \"Main Set: 2 sets of (4x50m Freestyle with kickboard, followed by a drill exercise: 2x50m with kickboard, 2x50m without)\",\n",
      "                    \"repeats\": \"4\",\n",
      "                    \"sets\": \"2\",\n",
      "                    \"duration\": \"50m\",\n",
      "                    \"rest\": \"30 sec between each 50m, 1 min between sets\",\n",
      "                    \"description\": \"Drill exercise: Focus on high elbow catch and body rotation.\"\n",
      "                },\n",
      "                {\n",
      "                    \"exercise\": \"Cool-down: 4x25m Freestyle with a side kick (bracing)\",\n",
      "                    \"repeats\": \"4\",\n",
      "                    \"sets\": \"1\",\n",
      "                    \"duration\": \"25m\",\n",
      "                    \"rest\": \"30 sec\",\n",
      "                    \"description\": \"Focus on relaxed breathing and smooth technique.\"\n",
      "                }\n",
      "            ]\n",
      "        }\n",
      "    ]\n",
      "}\n",
      "```\n"
     ]
    }
   ],
   "source": [
    "print(result.json()[\"response\"])"
   ]
  }
 ],
 "metadata": {
  "kernelspec": {
   "display_name": "ml",
   "language": "python",
   "name": "python3"
  },
  "language_info": {
   "codemirror_mode": {
    "name": "ipython",
    "version": 3
   },
   "file_extension": ".py",
   "mimetype": "text/x-python",
   "name": "python",
   "nbconvert_exporter": "python",
   "pygments_lexer": "ipython3",
   "version": "3.12.3"
  }
 },
 "nbformat": 4,
 "nbformat_minor": 2
}
